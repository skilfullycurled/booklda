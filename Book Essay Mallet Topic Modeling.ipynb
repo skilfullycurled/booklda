{
 "cells": [
  {
   "cell_type": "code",
   "execution_count": 1,
   "metadata": {
    "collapsed": false
   },
   "outputs": [
    {
     "name": "stdout",
     "output_type": "stream",
     "text": [
      "imported\n"
     ]
    }
   ],
   "source": [
    "import os\n",
    "from bs4 import BeautifulSoup, NavigableString, Tag \n",
    "\n",
    "from nltk.util import ngrams\n",
    "from nltk import word_tokenize\n",
    "\n",
    "import json\n",
    "import numpy as np\n",
    "import pandas as pd\n",
    "\n",
    "%matplotlib inline\n",
    "import matplotlib as plt\n",
    "import seaborn as sns\n",
    "\n",
    "import collections\n",
    "import csv\n",
    "\n",
    "from datetime import datetime\n",
    "from pytz import timezone\n",
    "\n",
    "print \"imported\""
   ]
  },
  {
   "cell_type": "code",
   "execution_count": 2,
   "metadata": {
    "collapsed": false
   },
   "outputs": [
    {
     "name": "stdout",
     "output_type": "stream",
     "text": [
      "imported\n"
     ]
    }
   ],
   "source": [
    "# IMPORTS SPECIFIC TO TOPIC MODELING\n",
    "\n",
    "import langid\n",
    "import nltk\n",
    "import re\n",
    "import time\n",
    "from collections import defaultdict\n",
    "from configparser import ConfigParser\n",
    "from gensim import corpora, models, similarities\n",
    "from nltk.tokenize import RegexpTokenizer\n",
    "from string import digits\n",
    "import pyLDAvis.gensim\n",
    "\n",
    "print \"imported\""
   ]
  },
  {
   "cell_type": "code",
   "execution_count": 3,
   "metadata": {
    "collapsed": false
   },
   "outputs": [
    {
     "name": "stdout",
     "output_type": "stream",
     "text": [
      "imported\n"
     ]
    }
   ],
   "source": [
    "from sklearn.feature_extraction.text import CountVectorizer\n",
    "from sklearn.metrics.pairwise import cosine_similarity\n",
    "from sklearn.manifold import MDS\n",
    "\n",
    "import matplotlib.pyplot as plt\n",
    "from mpl_toolkits.mplot3d import Axes3D\n",
    "from scipy.cluster.hierarchy import ward, dendrogram\n",
    "\n",
    "print \"imported\""
   ]
  },
  {
   "cell_type": "code",
   "execution_count": null,
   "metadata": {
    "collapsed": true
   },
   "outputs": [],
   "source": []
  },
  {
   "cell_type": "code",
   "execution_count": 46,
   "metadata": {
    "collapsed": false
   },
   "outputs": [],
   "source": [
    "stringdir = '../papers/strings/'\n",
    "\n",
    "filenames = [stringdir + filename for filename in os.listdir(stringdir) if not filename.startswith('.')]\n",
    "# filenames"
   ]
  },
  {
   "cell_type": "markdown",
   "metadata": {},
   "source": [
    "### Source"
   ]
  },
  {
   "cell_type": "code",
   "execution_count": null,
   "metadata": {
    "collapsed": true
   },
   "outputs": [],
   "source": [
    "https://de.dariah.eu/tatom/topic_model_mallet.html"
   ]
  },
  {
   "cell_type": "markdown",
   "metadata": {},
   "source": [
    "### Processing MALLET output"
   ]
  },
  {
   "cell_type": "code",
   "execution_count": 47,
   "metadata": {
    "collapsed": false
   },
   "outputs": [
    {
     "name": "stdout",
     "output_type": "stream",
     "text": [
      "imported\n"
     ]
    }
   ],
   "source": [
    "# import numpy as np\n",
    "# import os\n",
    "import itertools\n",
    "import operator\n",
    "print 'imported'"
   ]
  },
  {
   "cell_type": "code",
   "execution_count": 90,
   "metadata": {
    "collapsed": false
   },
   "outputs": [],
   "source": [
    "# CREATE TRIPLES\n",
    "\n",
    "f = open(modelsdir + \"doc-topics.txt\")\n",
    "f.readline()\n",
    "# f.readline()\n",
    "l = f.readline()\n",
    "docnum, docname, values = trippler(l)"
   ]
  },
  {
   "cell_type": "code",
   "execution_count": 93,
   "metadata": {
    "collapsed": false
   },
   "outputs": [
    {
     "name": "stdout",
     "output_type": "stream",
     "text": [
      "0 0.540170940171\n",
      "3 0.140710751237\n",
      "4 0.132883490778\n",
      "5 0.0837606837607\n",
      "2 0.0556905083221\n",
      "1 0.046783625731\n"
     ]
    }
   ],
   "source": [
    "for topic, share in grouper(2, values):\n",
    "    print int(topic), float(share)"
   ]
  },
  {
   "cell_type": "code",
   "execution_count": 94,
   "metadata": {
    "collapsed": false
   },
   "outputs": [],
   "source": [
    "doctopic_triples = []\n",
    "mallet_docnames = []\n",
    "\n",
    "modelsdir = '../papers/models/mallet/'\n",
    "\n",
    "with open(modelsdir + \"doc-topics.txt\") as f:\n",
    "    f.readline()  # read one line in order to skip the header\n",
    "    for line in f:\n",
    "        docnum, docname, values = trippler(line)\n",
    "        mallet_docnames.append(docname)\n",
    "        for topic, share in grouper(2, values):\n",
    "            triple = (docname, int(topic), float(share))\n",
    "            doctopic_triples.append(triple)"
   ]
  },
  {
   "cell_type": "code",
   "execution_count": 95,
   "metadata": {
    "collapsed": true
   },
   "outputs": [],
   "source": [
    "# SORT TRIPLES"
   ]
  },
  {
   "cell_type": "code",
   "execution_count": 96,
   "metadata": {
    "collapsed": true
   },
   "outputs": [],
   "source": [
    "# triple is (docname, topicnum, share) so sort(key=operator.itemgetter(0,1))\n",
    "# sorts on (docname, topicnum) which is what we want\n",
    "\n",
    "doctopic_triples = sorted(doctopic_triples, key=operator.itemgetter(0,1))\n",
    "\n",
    "# sort the document names rather than relying on MALLET's ordering\n",
    "mallet_docnames = sorted(mallet_docnames)\n",
    "\n",
    "# collect into a document-term matrix\n",
    "num_docs = len(mallet_docnames)\n",
    "\n",
    "num_topics = len(doctopic_triples) // len(mallet_docnames)"
   ]
  },
  {
   "cell_type": "code",
   "execution_count": 100,
   "metadata": {
    "collapsed": true
   },
   "outputs": [],
   "source": [
    "# The following method is considerably faster. \n",
    "# It uses the itertools library which is part of the Python standard library.\n",
    "\n",
    "doctopic = np.zeros((num_docs, num_topics))\n",
    "\n",
    "for i, (doc_name, triples) in enumerate(itertools.groupby(doctopic_triples, key=operator.itemgetter(0))):\n",
    "    doctopic[i, :] = np.array([share for _, _, share in triples])"
   ]
  },
  {
   "cell_type": "code",
   "execution_count": 101,
   "metadata": {
    "collapsed": false
   },
   "outputs": [],
   "source": [
    "essay_names = [filename.split('.')[0] for filename in os.listdir(stringdir) if not filename.startswith('.')]\n",
    "\n",
    "# turn this into an array so we can use NumPy functions\n",
    "essay_names = np.asarray(essay_names)\n",
    "\n",
    "doctopic_orig = doctopic.copy()\n",
    "\n",
    "# use method described in preprocessing section\n",
    "num_groups = len(set(essay_names))\n",
    "doctopic_grouped = np.zeros((num_groups, num_topics))\n",
    "\n",
    "for i, name in enumerate(sorted(set(essay_names))):\n",
    "    doctopic_grouped[i, :] = np.mean(doctopic[essay_names == name, :], axis=0)\n",
    "    \n",
    "doctopic = doctopic_grouped"
   ]
  },
  {
   "cell_type": "code",
   "execution_count": 104,
   "metadata": {
    "collapsed": false
   },
   "outputs": [
    {
     "data": {
      "text/plain": [
       "0"
      ]
     },
     "execution_count": 104,
     "metadata": {},
     "output_type": "execute_result"
    }
   ],
   "source": [
    "1/5"
   ]
  },
  {
   "cell_type": "code",
   "execution_count": 108,
   "metadata": {
    "collapsed": false
   },
   "outputs": [
    {
     "data": {
      "image/png": "[encoded data removed]",
      "text/plain": [
       "<matplotlib.figure.Figure at 0x11ec328d0>"
      ]
     },
     "metadata": {},
     "output_type": "display_data"
    }
   ],
   "source": [
    "N, K = doctopic.shape\n",
    "ind = np.arange(N)\n",
    "width = 0.5\n",
    "\n",
    "plots = []\n",
    "height_cumulative = np.zeros(N)\n",
    "\n",
    "plt.figure(figsize=(15,12))\n",
    "\n",
    "for k in range(K):\n",
    "    color = plt.cm.coolwarm(float(k)/float(K), 1)\n",
    "    if k == 0:\n",
    "        p = plt.bar(ind, doctopic[:, k], width, color=color)\n",
    "    else:\n",
    "        p = plt.bar(ind, doctopic[:, k], width, bottom=height_cumulative, color=color)\n",
    "    height_cumulative += doctopic[:, k]\n",
    "    plots.append(p)\n",
    "    \n",
    "plt.ylim((0, 1))\n",
    "plt.ylabel('Topics')\n",
    "plt.title('Topics in essays')\n",
    "plt.xticks(ind+width/2, essay_names, rotation='vertical')\n",
    "plt.yticks(np.arange(0, 1, 10))\n",
    "topic_labels = ['Topic #{}'.format(k) for k in range(K)]\n",
    "plt.legend([p[0] for p in plots], topic_labels)\n",
    "plt.show()"
   ]
  },
  {
   "cell_type": "code",
   "execution_count": 110,
   "metadata": {
    "collapsed": false
   },
   "outputs": [
    {
     "name": "stdout",
     "output_type": "stream",
     "text": [
      "Topic 0: infrastructural gps knowledge experts energy issue project questions infrastructure public controversy maps venus environmental infrastructures\n",
      "Topic 1: code source internet technology people women language project life open projects spip case form definition\n",
      "Topic 2: digital service technologies workers call labor global technology human social center voice sound scholars sts\n",
      "Topic 3: human users computing world user knowledge computer algorithms practices research relations time make nature technological\n",
      "Topic 4: software work social studies media time sts ways systems focus tools working movement organizational present\n",
      "Topic 5: data digital design network material analysis actors artifacts social networks action materiality information process actor\n"
     ]
    }
   ],
   "source": [
    "with open(modelsdir + 'topic-keys.txt') as input:\n",
    "    topic_keys_lines = input.readlines()\n",
    "\n",
    "topic_words = []\n",
    "\n",
    "for line in topic_keys_lines:\n",
    "    _, _, words = line.split('\\t')\n",
    "    words = words.rstrip().split(' ')\n",
    "    topic_words.append(words)\n",
    "    \n",
    "for t in range(len(topic_words)):\n",
    "    print(\"Topic {}: {}\".format(t, ' '.join(topic_words[t][:15])))"
   ]
  },
  {
   "cell_type": "code",
   "execution_count": 26,
   "metadata": {
    "collapsed": true
   },
   "outputs": [],
   "source": [
    "def grouper(n, iterable, fillvalue=None):\n",
    "    #Collect data into fixed-length chunks or blocks\n",
    "    args = [iter(iterable)] * n\n",
    "    return itertools.izip_longest(*args, fillvalue=fillvalue)"
   ]
  },
  {
   "cell_type": "code",
   "execution_count": 22,
   "metadata": {
    "collapsed": true
   },
   "outputs": [],
   "source": [
    "def trippler(line):\n",
    "    line = line.rstrip().split('\\t')\n",
    "    return line[0], line[1], line[2:]"
   ]
  },
  {
   "cell_type": "code",
   "execution_count": null,
   "metadata": {
    "collapsed": true
   },
   "outputs": [],
   "source": []
  }
 ],
 "metadata": {
  "kernelspec": {
   "display_name": "Python 2",
   "language": "python",
   "name": "python2"
  },
  "language_info": {
   "codemirror_mode": {
    "name": "ipython",
    "version": 2
   },
   "file_extension": ".py",
   "mimetype": "text/x-python",
   "name": "python",
   "nbconvert_exporter": "python",
   "pygments_lexer": "ipython2",
   "version": "2.7.13"
  }
 },
 "nbformat": 4,
 "nbformat_minor": 0
}
